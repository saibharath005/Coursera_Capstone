{
 "cells": [
  {
   "cell_type": "markdown",
   "metadata": {},
   "source": [
    "## COVID-19 Pandemic Alert In Tirupati"
   ]
  },
  {
   "cell_type": "markdown",
   "metadata": {},
   "source": [
    "### Introduction"
   ]
  },
  {
   "cell_type": "markdown",
   "metadata": {},
   "source": [
    "Tirupati city, an attraction of millions of pilgrims & tourists every year,\n",
    "is a home for more than four lakh native people. It’s a city with a long\n",
    "history &amp; culture and also a center for evolving business, technology,\n",
    "arts &amp; culture. In Tirupati, people have a lot of first-aid centers &amp;\n",
    "hospitals to get the help from.  For someone who is looking to open a\n",
    "pharmacy or clinic, it is vital to choose the neighborhood and retail\n",
    "location. The goal of this project is to figure out the places with less or\n",
    "no clinics nearby &amp; where they should be set up to run successfully with\n",
    "the accurate data analysis. During the lockdown periods, this will help\n",
    "people find the pharmacy or first aid medicines in the detoured routes. \n",
    "\n",
    "**During pandemic, COVID-19 having lockdowns this will also help us find out whether there is any\n",
    "nearby emergency medical shops in a required area.**"
   ]
  },
  {
   "cell_type": "markdown",
   "metadata": {},
   "source": [
    "### Data Acquisition"
   ]
  },
  {
   "cell_type": "markdown",
   "metadata": {},
   "source": [
    "The first thing that we need to solve the above problem is the exploration of locality. As I am from the same locality I have a decent knowledge in all the areas.\n",
    "That doesn't mean person with no knowledge on locality can do nothing here. To sort out all these problems I have listed all my gatherings and sources here.\n",
    "\n",
    "First approach I did is, I Listed out all the Neighborhoods in the locality from the official website of Municipal Corporation of Tirupati. [Click_Here](https://tirupati.cdma.ap.gov.in/en/ward-profile). To go there\n",
    "\n",
    "\n",
    "For the Neighborhoods in that list we have to generate the Latitude and Longitude of each Neighborhood. For this I have used the **\"geopy\"** library\n",
    "\n",
    "After getting all the neighborhoods lat longs we are dropping if any nulls or Nones are there in the data. Duplicates If any mostly None.\n",
    "\n",
    "Once we have cleaned the data will cluster and segment the data points based on their latitude and longitude. will be dividing the segments in such a way that there were less overlaps and more area covred in that locality.\n",
    "\n",
    "From the above will generate the centres for each segement.\n",
    "\n",
    "For each centre in the above segments will search for nearby pharmacies around a radius of 500 metres.\n",
    "\n",
    "To fetch the near by places I have used the google places API. I am left with no other option because Foursquare API is not giving the accurate results when exploring it in my locality. So I approched Google Places API to search for nearby places.\n"
   ]
  }
 ],
 "metadata": {
  "kernelspec": {
   "display_name": "Python 3",
   "language": "python",
   "name": "python3"
  },
  "language_info": {
   "codemirror_mode": {
    "name": "ipython",
    "version": 3
   },
   "file_extension": ".py",
   "mimetype": "text/x-python",
   "name": "python",
   "nbconvert_exporter": "python",
   "pygments_lexer": "ipython3",
   "version": "3.6.5"
  }
 },
 "nbformat": 4,
 "nbformat_minor": 2
}
