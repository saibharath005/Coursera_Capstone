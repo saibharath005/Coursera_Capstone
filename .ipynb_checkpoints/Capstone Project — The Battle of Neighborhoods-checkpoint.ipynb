{
 "cells": [
  {
   "cell_type": "code",
   "execution_count": 1,
   "metadata": {},
   "outputs": [],
   "source": [
    "#Import libraries\n",
    "import numpy as np #handles data in vactorized manner\n",
    "import pandas as pd #handles data analysis\n",
    "pd.set_option('display.max_columns', None)\n",
    "pd.set_option('display.max_rows', None)\n",
    "\n",
    "import json#handles JSON files\n",
    "\n",
    "from geopy.geocoders import Nominatim #converts an address into latitude and longitude values\n",
    "\n",
    "import requests #handles requests\n",
    "from pandas.io.json import json_normalize # transform JSON file into a pandas datafame\n",
    "\n",
    "#Import matplotlib and plotting modules\n",
    "import matplotlib.cm as cm\n",
    "import matplotlib.colors as colors\n",
    "\n",
    "#Import k-means for clustering\n",
    "from sklearn.cluster import KMeans\n",
    "\n",
    "import folium #renders map"
   ]
  },
  {
   "cell_type": "code",
   "execution_count": 2,
   "metadata": {},
   "outputs": [
    {
     "name": "stdout",
     "output_type": "stream",
     "text": [
      "Your credentails:\n",
      "CLIENT_ID: C2XXLHBKQO1WOIJRGCT2BDZFOZFRYMORLMYD5UWFLAFWMGSM\n",
      "CLIENT_SECRET:TX1CHXQA5IRTYCE013MWSDJ0S1D4M3QACAUCYLR0D25TLPOJ\n"
     ]
    }
   ],
   "source": [
    "CLIENT_ID = 'C2XXLHBKQO1WOIJRGCT2BDZFOZFRYMORLMYD5UWFLAFWMGSM' # your Foursquare ID\n",
    "CLIENT_SECRET = 'TX1CHXQA5IRTYCE013MWSDJ0S1D4M3QACAUCYLR0D25TLPOJ' # your Foursquare Secret\n",
    "VERSION = '20200702'\n",
    "LIMIT = 100\n",
    "\n",
    "print('Your credentails:')\n",
    "print('CLIENT_ID: ' + CLIENT_ID)\n",
    "print('CLIENT_SECRET:' + CLIENT_SECRET)"
   ]
  },
  {
   "cell_type": "code",
   "execution_count": 4,
   "metadata": {},
   "outputs": [
    {
     "name": "stdout",
     "output_type": "stream",
     "text": [
      "The geograpical coordinate of the City of Tirupati, Andhra Pradesh, IN are 13.6316368, 79.4231711.\n"
     ]
    }
   ],
   "source": [
    "geolocator = Nominatim(user_agent=\"tpt_explorer\")\n",
    "address = 'Tirupati, Andhra Pradesh, IN'\n",
    "\n",
    "location = geolocator.geocode(address)\n",
    "latitude = location.latitude\n",
    "longitude = location.longitude\n",
    "\n",
    "print('The geograpical coordinate of the City of {} are {}, {}.'.format(address,latitude, longitude))"
   ]
  },
  {
   "cell_type": "markdown",
   "metadata": {},
   "source": [
    "### Medical Shops"
   ]
  },
  {
   "cell_type": "code",
   "execution_count": 10,
   "metadata": {},
   "outputs": [],
   "source": [
    "search_query = 'Hospital'\n",
    "radius = 500\n",
    "\n",
    "#Create the API request URL\n",
    "url = 'https://api.foursquare.com/v2/venues/explore?&client_id={}&client_secret={}&v={}&ll={},{}&radius={}&limit={}'.format(\n",
    "            CLIENT_ID, \n",
    "            CLIENT_SECRET, \n",
    "            VERSION, \n",
    "            latitude, \n",
    "            longitude, \n",
    "            radius, \n",
    "            LIMIT)"
   ]
  },
  {
   "cell_type": "code",
   "execution_count": 11,
   "metadata": {},
   "outputs": [],
   "source": [
    "#Send the GET Request \n",
    "results = requests.get(url).json()\n",
    "\n",
    "#Assign relevant part of JSON to venues\n",
    "# venues = results['response']['venues']\n",
    "\n",
    "# #Tranform venues into a dataframe\n",
    "# uni_df = json_normalize(venues)\n",
    "# uni_df.shape"
   ]
  },
  {
   "cell_type": "code",
   "execution_count": 12,
   "metadata": {},
   "outputs": [
    {
     "data": {
      "text/plain": [
       "2"
      ]
     },
     "execution_count": 12,
     "metadata": {},
     "output_type": "execute_result"
    }
   ],
   "source": [
    "len(results)"
   ]
  },
  {
   "cell_type": "code",
   "execution_count": null,
   "metadata": {},
   "outputs": [],
   "source": []
  }
 ],
 "metadata": {
  "kernelspec": {
   "display_name": "Python 3",
   "language": "python",
   "name": "python3"
  },
  "language_info": {
   "codemirror_mode": {
    "name": "ipython",
    "version": 3
   },
   "file_extension": ".py",
   "mimetype": "text/x-python",
   "name": "python",
   "nbconvert_exporter": "python",
   "pygments_lexer": "ipython3",
   "version": "3.6.5"
  }
 },
 "nbformat": 4,
 "nbformat_minor": 2
}
