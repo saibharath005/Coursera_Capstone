{
 "cells": [
  {
   "cell_type": "markdown",
   "metadata": {},
   "source": [
    "## COVID-19 Pandemic Alert In Tirupati"
   ]
  },
  {
   "cell_type": "markdown",
   "metadata": {},
   "source": [
    "### Introduction"
   ]
  },
  {
   "cell_type": "markdown",
   "metadata": {},
   "source": [
    "Tirupati city, an attraction of millions of pilgrims & tourists every year,\n",
    "is a home for more than four lakh native people. It’s a city with a long\n",
    "history &amp; culture and also a center for evolving business, technology,\n",
    "arts &amp; culture. In Tirupati, people have a lot of first-aid centers &amp;\n",
    "hospitals to get the help from.  For someone who is looking to open a\n",
    "pharmacy or clinic, it is vital to choose the neighborhood and retail\n",
    "location. The goal of this project is to figure out the places with less or\n",
    "no clinics nearby &amp; where they should be set up to run successfully with\n",
    "the accurate data analysis. During the lockdown periods, this will help\n",
    "people find the pharmacy or first aid medicines in the detoured routes. \n",
    "\n",
    "**During pandemic, COVID-19 having lockdowns this will also help us find out whether there is any\n",
    "nearby emergency medical shops in a required area.**"
   ]
  },
  {
   "cell_type": "markdown",
   "metadata": {},
   "source": [
    "### Targeted Audience"
   ]
  },
  {
   "cell_type": "markdown",
   "metadata": {},
   "source": [
    "<ol>\n",
    "<li>Goverment Of Andhra Pradesh</li>\n",
    "<li>Municipal Corporation of Tirupati</li>    \n",
    "<li>People In the Neighborhood</li>\n",
    "<li>Business People Interested in Pharma or Sanitizers</li>\n",
    "</ol>"
   ]
  },
  {
   "cell_type": "markdown",
   "metadata": {},
   "source": [
    "### Data Acquisition"
   ]
  },
  {
   "cell_type": "markdown",
   "metadata": {},
   "source": [
    "The first thing that we need to solve the above problem is the exploration of locality. As I am from the same locality I have a decent knowledge in all the areas.\n",
    "That doesn't mean person with no knowledge on locality can do nothing here. To sort out all these problems I have listed all my gatherings and sources here.\n",
    "\n",
    "First approach I did is, I Listed out all the Neighborhoods in the locality from the official website of Municipal Corporation of Tirupati. [Click_Here](https://tirupati.cdma.ap.gov.in/en/ward-profile). To go there\n",
    "\n",
    "\n",
    "For the Neighborhoods in that list we have to generate the Latitude and Longitude of each Neighborhood. For this I have used the **\"geopy\"** library\n",
    "\n",
    "After getting all the neighborhoods lat longs we are dropping if any nulls or Nones are there in the data. Duplicates If any mostly None.\n",
    "\n",
    "Once we have cleaned the data will cluster and segment the data points based on their latitude and longitude. will be dividing the segments in such a way that there were less overlaps and more area covred in that locality.\n",
    "\n",
    "From the above will generate the centres for each segement.\n",
    "\n",
    "For each centre in the above segments will search for nearby pharmacies around a radius of 500 metres.\n",
    "\n",
    "To fetch the near by places I have used the google places API. I am left with no other option because Foursquare API is not giving the accurate results when exploring it in my locality. So I approched Google Places API to search for nearby places.\n"
   ]
  },
  {
   "cell_type": "markdown",
   "metadata": {},
   "source": [
    "### Data Exploration"
   ]
  },
  {
   "cell_type": "markdown",
   "metadata": {},
   "source": [
    "From the above will get the data of Neighborhoods Latitude and Longitude which looks like the below"
   ]
  },
  {
   "cell_type": "code",
   "execution_count": 6,
   "metadata": {},
   "outputs": [
    {
     "data": {
      "text/html": [
       "<div>\n",
       "<style scoped>\n",
       "    .dataframe tbody tr th:only-of-type {\n",
       "        vertical-align: middle;\n",
       "    }\n",
       "\n",
       "    .dataframe tbody tr th {\n",
       "        vertical-align: top;\n",
       "    }\n",
       "\n",
       "    .dataframe thead th {\n",
       "        text-align: right;\n",
       "    }\n",
       "</style>\n",
       "<table border=\"1\" class=\"dataframe\">\n",
       "  <thead>\n",
       "    <tr style=\"text-align: right;\">\n",
       "      <th></th>\n",
       "      <th>Location</th>\n",
       "      <th>latitude</th>\n",
       "      <th>longitude</th>\n",
       "    </tr>\n",
       "  </thead>\n",
       "  <tbody>\n",
       "    <tr>\n",
       "      <th>0</th>\n",
       "      <td>Surabhi Gardens,Tirupati,Andhra Pradesh,IN</td>\n",
       "      <td>13.6055</td>\n",
       "      <td>79.4138</td>\n",
       "    </tr>\n",
       "    <tr>\n",
       "      <th>1</th>\n",
       "      <td>Ambedkar Colony, Tirupati, Andhra Pradesh, IN</td>\n",
       "      <td>13.6082</td>\n",
       "      <td>79.4199</td>\n",
       "    </tr>\n",
       "    <tr>\n",
       "      <th>2</th>\n",
       "      <td>Oteru,Tirupati, Andhra Pradesh, IN</td>\n",
       "      <td>13.6083</td>\n",
       "      <td>79.4286</td>\n",
       "    </tr>\n",
       "    <tr>\n",
       "      <th>3</th>\n",
       "      <td>Avilala church,Tirupati, Andhra Pradesh, IN</td>\n",
       "      <td>13.6084</td>\n",
       "      <td>79.4240</td>\n",
       "    </tr>\n",
       "    <tr>\n",
       "      <th>4</th>\n",
       "      <td>Universal christian hospital,RC Road, Tirupati...</td>\n",
       "      <td>13.6093</td>\n",
       "      <td>79.4128</td>\n",
       "    </tr>\n",
       "  </tbody>\n",
       "</table>\n",
       "</div>"
      ],
      "text/plain": [
       "                                            Location  latitude  longitude\n",
       "0         Surabhi Gardens,Tirupati,Andhra Pradesh,IN   13.6055    79.4138\n",
       "1      Ambedkar Colony, Tirupati, Andhra Pradesh, IN   13.6082    79.4199\n",
       "2                 Oteru,Tirupati, Andhra Pradesh, IN   13.6083    79.4286\n",
       "3        Avilala church,Tirupati, Andhra Pradesh, IN   13.6084    79.4240\n",
       "4  Universal christian hospital,RC Road, Tirupati...   13.6093    79.4128"
      ]
     },
     "execution_count": 6,
     "metadata": {},
     "output_type": "execute_result"
    }
   ],
   "source": []
  },
  {
   "cell_type": "markdown",
   "metadata": {},
   "source": [
    "From the Google Places API will the Palces details like below"
   ]
  },
  {
   "cell_type": "code",
   "execution_count": 5,
   "metadata": {},
   "outputs": [
    {
     "data": {
      "text/html": [
       "<div>\n",
       "<style scoped>\n",
       "    .dataframe tbody tr th:only-of-type {\n",
       "        vertical-align: middle;\n",
       "    }\n",
       "\n",
       "    .dataframe tbody tr th {\n",
       "        vertical-align: top;\n",
       "    }\n",
       "\n",
       "    .dataframe thead th {\n",
       "        text-align: right;\n",
       "    }\n",
       "</style>\n",
       "<table border=\"1\" class=\"dataframe\">\n",
       "  <thead>\n",
       "    <tr style=\"text-align: right;\">\n",
       "      <th></th>\n",
       "      <th>Label</th>\n",
       "      <th>Latitude</th>\n",
       "      <th>Longitude</th>\n",
       "      <th>Place Name</th>\n",
       "      <th>Place Address</th>\n",
       "    </tr>\n",
       "  </thead>\n",
       "  <tbody>\n",
       "    <tr>\n",
       "      <th>0</th>\n",
       "      <td>18</td>\n",
       "      <td>13.618047</td>\n",
       "      <td>79.433437</td>\n",
       "      <td>A1 Medical Shop</td>\n",
       "      <td>Padmavathi Puram, Tirupati</td>\n",
       "    </tr>\n",
       "    <tr>\n",
       "      <th>1</th>\n",
       "      <td>11</td>\n",
       "      <td>13.641823</td>\n",
       "      <td>79.427993</td>\n",
       "      <td>Amaravathi Medical &amp; Fancy</td>\n",
       "      <td>20-3-125/E Akkarampalli Road, Leelamahal, Junc...</td>\n",
       "    </tr>\n",
       "    <tr>\n",
       "      <th>2</th>\n",
       "      <td>14</td>\n",
       "      <td>13.618670</td>\n",
       "      <td>79.409070</td>\n",
       "      <td>Anusha Medicals &amp; Fancy</td>\n",
       "      <td>D.No : 5-254, Ullipattida, Vasavi Nagar, M R P...</td>\n",
       "    </tr>\n",
       "    <tr>\n",
       "      <th>3</th>\n",
       "      <td>2</td>\n",
       "      <td>13.633820</td>\n",
       "      <td>79.419643</td>\n",
       "      <td>Apollo Pharmacy</td>\n",
       "      <td>Door No, 114/B, Theertha Katta Street, Rayalas...</td>\n",
       "    </tr>\n",
       "    <tr>\n",
       "      <th>4</th>\n",
       "      <td>2</td>\n",
       "      <td>13.631498</td>\n",
       "      <td>79.419658</td>\n",
       "      <td>Apollo Pharmacy</td>\n",
       "      <td>Door No 12/3, near Nalugu Kalla Mandapam, 328 ...</td>\n",
       "    </tr>\n",
       "  </tbody>\n",
       "</table>\n",
       "</div>"
      ],
      "text/plain": [
       "   Label   Latitude  Longitude                  Place Name  \\\n",
       "0     18  13.618047  79.433437             A1 Medical Shop   \n",
       "1     11  13.641823  79.427993  Amaravathi Medical & Fancy   \n",
       "2     14  13.618670  79.409070     Anusha Medicals & Fancy   \n",
       "3      2  13.633820  79.419643             Apollo Pharmacy   \n",
       "4      2  13.631498  79.419658             Apollo Pharmacy   \n",
       "\n",
       "                                       Place Address  \n",
       "0                         Padmavathi Puram, Tirupati  \n",
       "1  20-3-125/E Akkarampalli Road, Leelamahal, Junc...  \n",
       "2  D.No : 5-254, Ullipattida, Vasavi Nagar, M R P...  \n",
       "3  Door No, 114/B, Theertha Katta Street, Rayalas...  \n",
       "4  Door No 12/3, near Nalugu Kalla Mandapam, 328 ...  "
      ]
     },
     "execution_count": 5,
     "metadata": {},
     "output_type": "execute_result"
    }
   ],
   "source": []
  },
  {
   "cell_type": "markdown",
   "metadata": {},
   "source": [
    "From these will calculate the distance between the centroids and the place latitude and logitude and we can see that how far the \n",
    "store is from segmented Neighborhood. How many Stores are there in each segmented Neighborhood and many more"
   ]
  },
  {
   "cell_type": "code",
   "execution_count": null,
   "metadata": {},
   "outputs": [],
   "source": []
  }
 ],
 "metadata": {
  "kernelspec": {
   "display_name": "Python 3",
   "language": "python",
   "name": "python3"
  },
  "language_info": {
   "codemirror_mode": {
    "name": "ipython",
    "version": 3
   },
   "file_extension": ".py",
   "mimetype": "text/x-python",
   "name": "python",
   "nbconvert_exporter": "python",
   "pygments_lexer": "ipython3",
   "version": "3.6.5"
  }
 },
 "nbformat": 4,
 "nbformat_minor": 2
}
